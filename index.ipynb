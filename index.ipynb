{
 "cells": [
  {
   "cell_type": "markdown",
   "metadata": {},
   "source": [
    "<img src=\"./img/logos_combined.png\" align=\"left\" width=\"50%\"></img>\n",
    "<br><br><br>\n",
    "<hr>"
   ]
  },
  {
   "cell_type": "markdown",
   "metadata": {},
   "source": [
    "# OGC web services for meteorological data"
   ]
  },
  {
   "cell_type": "markdown",
   "metadata": {},
   "source": [
    "\n",
    "Interactive demonstration given at [UEF 2017](https://www.ecmwf.int/en/learning/workshops/using-ecmwfs-forecasts-uef2017) <br>\n",
    "Thursday, 15 May 2017, 11:50 - 12:50 & 14:00 - 15:00 | Council Chamber, ECMWF, Reading, UK\n",
    "\n",
    "<img src=\"./img/uef_logo_3_compact.jpg\" width=\"30%\" align=\"right\"></img>\n",
    "\n",
    "### Speakers\n",
    "Julia Wagemann - European Centre for Medium-Range Weather Forecasts <br>\n",
    "\n",
    "\n",
    "### Access to demonstration material \n",
    "\n",
    "The tutorial material can be accessed via https://jupyter.eofrom.space. <br>\n",
    "You will need to log in with your GitHub credentials.\n",
    "<br>\n",
    "\n",
    "The notebooks are also available on GitHub: <br> https://github.com/JuliaWagemann/uef_2017_ogc_web_services"
   ]
  },
  {
   "cell_type": "markdown",
   "metadata": {},
   "source": [
    "<hr>"
   ]
  },
  {
   "cell_type": "markdown",
   "metadata": {},
   "source": [
    "# Content of interactive demonstration\n",
    "\n"
   ]
  },
  {
   "cell_type": "markdown",
   "metadata": {},
   "source": [
    "|Part |Content|\n",
    "|---------|-----------|\n",
    "|Part I | [<b>Motivation behind web services - What is OGC WC(P)S? </b>](./01_Web_Services_motivation.ipynb) |\n",
    "| <i>Optional</i> | <i><b>Short Intro to Jupyter Notebooks</b></i> |\n",
    "|Part II | [<b>Interactive example: create a climate graph for Reading</b>](./02_Climate_graph_example.ipynb) |\n",
    "|Part III | <b>Questions</b> |"
   ]
  },
  {
   "cell_type": "markdown",
   "metadata": {},
   "source": [
    "<hr>"
   ]
  },
  {
   "cell_type": "markdown",
   "metadata": {},
   "source": [
    "# Further ressources"
   ]
  },
  {
   "cell_type": "markdown",
   "metadata": {},
   "source": [
    "* [Tutorial on OGC Web Coverage Service for Climate Data](https://nbviewer.jupyter.org/github/earthserver-eu/OGC_WCS_tutorial/blob/master/index.ipynb)\n",
    "* [Climate Science Data Service | EarthServer-2](http://earthserver.ecmwf.int)\n",
    "* [EarthServer project](http://earthserver.eu)"
   ]
  },
  {
   "cell_type": "markdown",
   "metadata": {},
   "source": [
    "<hr>"
   ]
  },
  {
   "cell_type": "markdown",
   "metadata": {},
   "source": [
    "<a rel=\"license\" href=\"http://creativecommons.org/licenses/by/4.0/\"><img style=\"float: right\" alt=\"Creative Commons Lizenzvertrag\" style=\"border-width:0\" src=\"https://i.creativecommons.org/l/by/4.0/88x31.png\" /></a>"
   ]
  }
 ],
 "metadata": {
  "kernelspec": {
   "display_name": "Python 2",
   "language": "python",
   "name": "python2"
  },
  "language_info": {
   "codemirror_mode": {
    "name": "ipython",
    "version": 2
   },
   "file_extension": ".py",
   "mimetype": "text/x-python",
   "name": "python",
   "nbconvert_exporter": "python",
   "pygments_lexer": "ipython2",
   "version": "2.7.8"
  }
 },
 "nbformat": 4,
 "nbformat_minor": 0
}
